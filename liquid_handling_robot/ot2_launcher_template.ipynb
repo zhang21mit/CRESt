{
 "cells": [
  {
   "cell_type": "markdown",
   "source": [
    "# Initialization"
   ],
   "metadata": {
    "collapsed": false
   }
  },
  {
   "cell_type": "code",
   "execution_count": null,
   "outputs": [],
   "source": [
    "from liquid_handling_robot.ot2_env import OT2_Env_Linux\n",
    "from utils.utils import get_tasks\n",
    "\n",
    "# exp selection\n",
    "# exp_name = 'default'\n",
    "# exp_name = 'DFFC_PdPtCu'\n",
    "# exp_name = 'acidic_oer_IrRuNi' #bicarb OER + Honda\n",
    "# exp_name = 'acidic_mor_PtRuSc'\n",
    "# exp_name = 'MOR_5D'\n",
    "exp_name = 'DFFC_8D_4'\n",
    "\n",
    "# env initialization\n",
    "ot2_env = OT2_Env_Linux(exp_name)"
   ],
   "metadata": {
    "collapsed": false
   }
  },
  {
   "cell_type": "markdown",
   "source": [
    "# Manual run"
   ],
   "metadata": {
    "collapsed": false
   }
  },
  {
   "cell_type": "code",
   "execution_count": null,
   "outputs": [],
   "source": [
    "# get task\n",
    "# ot2_tasks = get_tasks(exp_name, task_name='default')\n",
    "# ot2_tasks = get_tasks(exp_name, task_name='normal order-10')\n",
    "# ot2_tasks = get_tasks(exp_name, task_name='temp')\n",
    "# ot2_tasks = get_tasks(exp_name, task_name='manual')\n",
    "# ot2_tasks = get_tasks(exp_name, task_name='Honda-OER')\n",
    "# ot2_tasks = get_tasks(exp_name, task_name='CO2_MEA')\n",
    "# ot2_tasks = get_tasks(exp_name, task_name='benchmark')\n",
    "# ot2_tasks = get_tasks(exp_name, task_name='HER')\n",
    "# ot2_tasks = get_tasks(exp_name, task_name='mix-test')\n",
    "# ot2_tasks = get_tasks(exp_name, task_name='CO2_MEA')\n",
    "ot2_tasks = get_tasks(exp_name, task_name='8d-trial')\n"
   ],
   "metadata": {
    "collapsed": false
   }
  },
  {
   "cell_type": "code",
   "execution_count": null,
   "outputs": [],
   "source": [
    "# ot2_env.run(ot2_tasks, operator_name='zhen')\n",
    "# ot2_env.run(ot2_tasks, operator_name='chu')\n",
    "ot2_env.run(ot2_tasks, run=True, recording=False)"
   ],
   "metadata": {
    "collapsed": false
   }
  },
  {
   "cell_type": "markdown",
   "source": [
    "# [Update upon changes] OT2 status settings"
   ],
   "metadata": {
    "collapsed": false
   }
  },
  {
   "cell_type": "code",
   "execution_count": null,
   "outputs": [],
   "source": [
    "ot2_env.reset_tip_index('20ul', 215)"
   ],
   "metadata": {
    "collapsed": false
   }
  },
  {
   "cell_type": "code",
   "execution_count": null,
   "outputs": [],
   "source": [
    "ot2_env.reset_tip_index('300ul', 51)"
   ],
   "metadata": {
    "collapsed": false
   }
  },
  {
   "cell_type": "code",
   "execution_count": null,
   "outputs": [],
   "source": [
    "ot2_env.reset_mixing_well_index(0)"
   ],
   "metadata": {
    "collapsed": false
   }
  },
  {
   "cell_type": "code",
   "execution_count": null,
   "outputs": [],
   "source": [
    "reservoir_update_dict = {\n",
    "    'reservoir_1':{\n",
    "        'A1': 8.5,\n",
    "        'A2': 9.5,\n",
    "        'A3': 11,\n",
    "        'A4': 5,\n",
    "        'A5': 9.6,\n",
    "        'B1': 4.2,\n",
    "        'B2': 13,\n",
    "        'B3': 10.5,\n",
    "        # 'B4': 9,\n",
    "        # 'B5': 9.5,\n",
    "        # 'C1': 10.4,\n",
    "        # 'C2': 10.5,\n",
    "        # 'C3': 8.5,\n",
    "        # 'C4': 5.2,\n",
    "        # 'C5': 3.3,\n",
    "    },\n",
    "    # 'reservoir_2':{\n",
    "    #     # 'A1': 10,\n",
    "    #     # 'A2': 10.5,\n",
    "    #     # 'A3': 3.6,\n",
    "    #     # 'B3': 10.8,\n",
    "    #     'B3': 10,\n",
    "    #     'C1': 13.8,\n",
    "    #\n",
    "    #\n",
    "    # }\n",
    "}\n",
    "ot2_env.update_reservoir(reservoir_update_dict)"
   ],
   "metadata": {
    "collapsed": false
   }
  },
  {
   "cell_type": "code",
   "execution_count": null,
   "outputs": [],
   "source": [
    "reservoir_update_dict = {\n",
    "    'reservoir_1':{\n",
    "        'A1': 40,\n",
    "        'A2': 40,\n",
    "        'A3': 42,\n",
    "        'B1': 42,\n",
    "        'B2': 45,\n",
    "        'B3': 0,\n",
    "    }\n",
    "}\n",
    "ot2_env.update_reservoir(reservoir_update_dict, tube_type='50ml')"
   ],
   "metadata": {
    "collapsed": false
   }
  },
  {
   "cell_type": "code",
   "execution_count": null,
   "outputs": [],
   "source": [
    "ot2_env.reset_reservoir(reservoir_name_list=[\n",
    "    'reservoir_1',\n",
    "    # 'reservoir_2'\n",
    "])"
   ],
   "metadata": {
    "collapsed": false
   }
  },
  {
   "cell_type": "code",
   "execution_count": null,
   "outputs": [],
   "source": [
    "from utils.utils import hyperlapse_video\n",
    "raw_path = '/media/li/HDD/ot2_recordings/raw'\n",
    "hyperlapse_path = '/media/li/HDD/ot2_recordings/hyperlapse'\n",
    "file_name = '2023-07-19 18-38-53'\n",
    "hyperlapse_video_path = hyperlapse_video(file_name, raw_path, hyperlapse_path)"
   ],
   "metadata": {
    "collapsed": false
   }
  }
 ],
 "metadata": {
  "kernelspec": {
   "display_name": "Python 3",
   "language": "python",
   "name": "python3"
  },
  "language_info": {
   "codemirror_mode": {
    "name": "ipython",
    "version": 2
   },
   "file_extension": ".py",
   "mimetype": "text/x-python",
   "name": "python",
   "nbconvert_exporter": "python",
   "pygments_lexer": "ipython2",
   "version": "2.7.6"
  }
 },
 "nbformat": 4,
 "nbformat_minor": 0
}
