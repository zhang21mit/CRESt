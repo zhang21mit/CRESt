{
 "cells": [
  {
   "cell_type": "code",
   "execution_count": null,
   "outputs": [],
   "source": [
    "import numpy as np\n",
    "import PyPhenom as ppi\n",
    "from datetime import datetime\n",
    "from Auto_SEM.autonomous_sem.phenom import SEM"
   ],
   "metadata": {
    "collapsed": false
   }
  },
  {
   "cell_type": "code",
   "execution_count": null,
   "outputs": [],
   "source": [
    "# parameter settings\n",
    "row = 10\n",
    "col = 10\n",
    "image_save_dir = ''"
   ],
   "metadata": {
    "collapsed": false
   }
  },
  {
   "cell_type": "code",
   "execution_count": null,
   "outputs": [],
   "source": [
    "def imaging(sem_instance: SEM, cur_row: int, cur_col: int, image_save_dir: str):\n",
    "    acqScanParams = ppi.ScanParams()\n",
    "    acqScanParams.size = ppi.Size(1920, 1200)\n",
    "    acqScanParams.detector = ppi.DetectorMode.All\n",
    "    acqScanParams.nFrames = 16\n",
    "    acqScanParams.hdr = False\n",
    "    acqScanParams.scale = 1.0\n",
    "    acq = sem_instance.phenom.SemAcquireImage(acqScanParams)\n",
    "    acq.metadata.displayWidth = 0.5\n",
    "    acq.metadata.dataBarLabel = \"Label\"\n",
    "    acqWithDatabar = ppi.AddDatabar(acq)\n",
    "    file_name = f'{datetime.now().strftime(\"%Y%m%d_%H%M%S\")}_row-{cur_row}_col-{cur_col}.tiff'\n",
    "    file_path = f'{image_save_dir}/{file_name}'\n",
    "    ppi.Save(acqWithDatabar, file_path)"
   ],
   "metadata": {
    "collapsed": false
   }
  },
  {
   "cell_type": "code",
   "execution_count": null,
   "outputs": [],
   "source": [
    "sem = SEM()\n",
    "horizontal_field_width = sem.phenom.GetHFW()\n",
    "vertical_field_width = horizontal_field_width * 9 / 16\n",
    "X_abs, Y_abs = sem.phenom.GetStageModeAndPosition().position\n",
    "\n",
    "# create a matrix list of points with row x col, with interval of horizontal and vertical field width, starting at the current position\n",
    "X = np.linspace(X_abs, X_abs + horizontal_field_width * (col - 1), col)\n",
    "Y = np.linspace(Y_abs, Y_abs - vertical_field_width * (row - 1), row)\n",
    "\n",
    "# iterate through the grid and take a picture at each point, starting from the top left to the right, then down\n",
    "for i in range(row):\n",
    "    for j in range(col):\n",
    "        sem.phenom.MoveTo(X[j], Y[i])\n",
    "        sem.phenom.SemAutoFocus()\n",
    "        sem.phenom.SemAutoContrastBrightness()\n",
    "        imaging(\n",
    "            sem_instance=sem,\n",
    "            cur_row=i,\n",
    "            cur_col=j,\n",
    "            image_save_dir=image_save_dir\n",
    "        )\n",
    "        print(f'Image taken at row {i}, col {j}')\n"
   ],
   "metadata": {
    "collapsed": false
   }
  }
 ],
 "metadata": {
  "kernelspec": {
   "display_name": "Python 3",
   "language": "python",
   "name": "python3"
  },
  "language_info": {
   "codemirror_mode": {
    "name": "ipython",
    "version": 2
   },
   "file_extension": ".py",
   "mimetype": "text/x-python",
   "name": "python",
   "nbconvert_exporter": "python",
   "pygments_lexer": "ipython2",
   "version": "2.7.6"
  }
 },
 "nbformat": 4,
 "nbformat_minor": 0
}
